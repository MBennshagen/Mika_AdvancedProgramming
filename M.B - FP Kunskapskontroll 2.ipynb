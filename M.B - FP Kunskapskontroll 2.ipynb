{
 "cells": [
  {
   "cell_type": "code",
   "execution_count": 47,
   "id": "0c3edbcb-cd22-41df-babf-3bbb054e187a",
   "metadata": {},
   "outputs": [],
   "source": [
    "#Notering: Skriptet nedan körs automatiskt via schemaläggning (kl.12.00 varje dag)\n",
    "\n",
    "#Importera nödvändiga bibliotek\n",
    "import sqlite3\n",
    "import pandas as pd\n",
    "import logging"
   ]
  },
  {
   "cell_type": "code",
   "execution_count": 49,
   "id": "f4d7decb-3975-4400-8bb8-463e8234aaf3",
   "metadata": {},
   "outputs": [],
   "source": [
    "#Ställ in loggning\n",
    "logging.basicConfig(filename='script_log.log', level=logging.INFO,\n",
    "                    format='%(asctime)s - %(levelname)s - %(message)s')\n",
    "logging.info('Skriptet har startat.')"
   ]
  },
  {
   "cell_type": "code",
   "execution_count": 53,
   "id": "5c4b3082-e2b4-4151-80df-e81ae1d3245f",
   "metadata": {},
   "outputs": [
    {
     "name": "stdout",
     "output_type": "stream",
     "text": [
      "Data från tabellen efter import:\n",
      "   employee_id      employee_name          position    salary\n",
      "0            1  Margareth Duffman         Principal  100000.0\n",
      "1            2           John Doe      Head Teacher   60000.0\n",
      "2            3   Stella Andersson      Head Teacher   60000.0\n",
      "3            4       Martina Roan      Head Teacher   80000.0\n",
      "4            5        Eric Cooper           Teacher   50000.0\n",
      "5            6     William Bailey           Teacher   40000.0\n",
      "6            7        Sofia Roper           Teacher   50000.0\n",
      "7            8        Carl Murphy           Janitor   20000.0\n",
      "8            9       Teresa Smith  Cafeteria Worker   20000.0\n",
      "9           10       Tomas Felton           Cleaner   20000.0\n",
      "Data från tabellen me cursor\n",
      "(1, 'Margareth Duffman', ' Principal', 100000.0)\n",
      "(2, 'John Doe', ' Head Teacher', 60000.0)\n",
      "(3, 'Stella Andersson', ' Head Teacher', 60000.0)\n",
      "(4, 'Martina Roan', ' Head Teacher', 80000.0)\n",
      "(5, 'Eric Cooper', ' Teacher', 50000.0)\n",
      "(6, 'William Bailey', ' Teacher', 40000.0)\n",
      "(7, 'Sofia Roper', ' Teacher', 50000.0)\n",
      "(8, 'Carl Murphy', ' Janitor', 20000.0)\n",
      "(9, 'Teresa Smith', 'Cafeteria Worker', 20000.0)\n",
      "(10, 'Tomas Felton', 'Cleaner', 20000.0)\n"
     ]
    }
   ],
   "source": [
    "try:\n",
    "    #Anslut till min databasfil\n",
    "    conn = sqlite3.connect('employees.db')\n",
    "    cursor = conn.cursor()\n",
    "    logging.info('Anslutning till SQLite-databasen lyckades.')\n",
    "\n",
    "    #Ta bort data som redan finns i tabellen (för att undvika dublettfel)\n",
    "    cursor.execute('DELETE FROM employees')\n",
    "    conn.commit()\n",
    "    logging.info('Befintlig data i employees-tabellen raderades.')\n",
    "\n",
    "    #Läs CSV-filen (information om anställda)\n",
    "    df = pd.read_csv('employees.csv')\n",
    "    logging.info('CSV-filen lästes in korrekt')\n",
    "    #Uppdatera 'employees' tabellen med datan från CSV-filen\n",
    "    df.to_sql('employees', conn, if_exists='append', index=False)\n",
    "    logging.info('Data från CSV-filen har importerats till employees-tabellen.')\n",
    "\n",
    "    #Verifiera datan är korrekt importerad samt läs och skriv ut tabellen via Pandas\n",
    "    query = \"SELECT * FROM employees\"\n",
    "    df_check = pd.read_sql_query(query, conn)\n",
    "    print(\"Data från tabellen efter import:\")\n",
    "    print(df_check)\n",
    "\n",
    "    #Verifiera datan genom att hämta och skriva ut rader med cursor\n",
    "    cursor.execute(\"SELECT * FROM employees\")\n",
    "\n",
    "    rows = cursor.fetchall()\n",
    "    print(\"Data från tabellen med cursor\")\n",
    "    for row in rows:\n",
    "        print(row)\n",
    "\n",
    "except Exception as e:\n",
    "    logging.error(f\"Ett fel uppstod: {e}\")\n",
    "\n",
    "finally:\n",
    "#Stäng anslutning\n",
    "    if conn:\n",
    "        conn.close()\n",
    "    logging.info('Anslutning stängd')"
   ]
  },
  {
   "cell_type": "code",
   "execution_count": null,
   "id": "5a47661f-8d00-49d8-9ab9-2b20880532e9",
   "metadata": {},
   "outputs": [],
   "source": []
  }
 ],
 "metadata": {
  "kernelspec": {
   "display_name": "Python 3 (ipykernel)",
   "language": "python",
   "name": "python3"
  },
  "language_info": {
   "codemirror_mode": {
    "name": "ipython",
    "version": 3
   },
   "file_extension": ".py",
   "mimetype": "text/x-python",
   "name": "python",
   "nbconvert_exporter": "python",
   "pygments_lexer": "ipython3",
   "version": "3.11.9"
  }
 },
 "nbformat": 4,
 "nbformat_minor": 5
}
